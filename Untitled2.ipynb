{
 "cells": [
  {
   "cell_type": "code",
   "execution_count": 3,
   "metadata": {
    "collapsed": true
   },
   "outputs": [],
   "source": [
    "from py2neo import Graph\n",
    "graph=Graph(\"http://localhost:7474/db/data/\",password=\"flower\")"
   ]
  },
  {
   "cell_type": "code",
   "execution_count": 4,
   "metadata": {
    "collapsed": true
   },
   "outputs": [],
   "source": [
    "try:\n",
    "    graph.delete_all()\n",
    "except NameError:\n",
    "    print(\"No more node to be deleted\")"
   ]
  },
  {
   "cell_type": "code",
   "execution_count": 5,
   "metadata": {},
   "outputs": [
    {
     "data": {
      "text/plain": [
       "<py2neo.database.Cursor at 0x7f16ac150978>"
      ]
     },
     "execution_count": 5,
     "metadata": {},
     "output_type": "execute_result"
    }
   ],
   "source": [
    "import pandas as pd\n",
    "from py2neo import Node, Relationship\n",
    "import os\n",
    "file=pd.read_csv(\"/var/lib/neo4j/import/final_list_output.csv\")\n",
    "\n",
    "for index,row in file.iterrows():\n",
    "    #print(type(row['Node']))\n",
    "    mag=Node(\"MAG\",name=row['Node'],Symptoms_Count=row['Symptoms_Count'],Diagnosis_Count=row['Diagnosis_Count'])\n",
    "    graph.merge(mag)\n",
    "    for each in (row['Symptoms'].strip('[]').split(',')):\n",
    "         #print(each) \n",
    "         each=each.replace(\"'\",'').replace(' ','')\n",
    "         #print(each)\n",
    "         each=Node(\"Symptoms\",name=each)\n",
    "         rel= Relationship(mag, \"hasSymptom\", each)\n",
    "         graph.merge(each)\n",
    "         graph.merge(rel)\n",
    "    for each in (row['Diagnosis'].strip('[]').split(',')):\n",
    "         #print(each)\n",
    "         each=each.replace(\"'\",'').replace(' ','')\n",
    "         each=Node(\"Diagnosis\",name=each)\n",
    "         rel= Relationship(mag, \"hasDiagnosis\", each)\n",
    "         graph.merge(each)\n",
    "         graph.merge(rel)\n",
    "\n",
    "graph.run(\"\"\"USING PERIODIC COMMIT 10000 \n",
    "LOAD CSV WITH HEADERS FROM 'file:///relation.csv' as line \n",
    "MATCH (a:MAG {name:line.Initial}) ,((b:MAG {name:line.Final}))\n",
    "MERGE (a)-[r:connectedTo]->(b)\n",
    "set r.conectedTo=line.Relation\n",
    "set r.Weight=tofloat(b.Diagnosis_Count) / tofloat(a.Diagnosis_Count) \"\"\")\n",
    "\n",
    "\n",
    "        \n",
    "        "
   ]
  },
  {
   "cell_type": "code",
   "execution_count": 2,
   "metadata": {},
   "outputs": [
    {
     "ename": "NameError",
     "evalue": "name 'graph' is not defined",
     "output_type": "error",
     "traceback": [
      "\u001b[0;31m---------------------------------------------------------------------------\u001b[0m",
      "\u001b[0;31mNameError\u001b[0m                                 Traceback (most recent call last)",
      "\u001b[0;32m<ipython-input-2-f44da6a3acb9>\u001b[0m in \u001b[0;36m<module>\u001b[0;34m()\u001b[0m\n\u001b[0;32m----> 1\u001b[0;31m graph.run(\"\"\"USING PERIODIC COMMIT 10000 \n\u001b[0m\u001b[1;32m      2\u001b[0m \u001b[0mLOAD\u001b[0m \u001b[0mCSV\u001b[0m \u001b[0mWITH\u001b[0m \u001b[0mHEADERS\u001b[0m \u001b[0mFROM\u001b[0m \u001b[0;34m'file:///expert_diagnosis.csv'\u001b[0m \u001b[0;32mas\u001b[0m \u001b[0mline\u001b[0m\u001b[0;34m\u001b[0m\u001b[0m\n\u001b[1;32m      3\u001b[0m \u001b[0mMATCH\u001b[0m \u001b[0;34m(\u001b[0m\u001b[0mdiag\u001b[0m\u001b[0;34m:\u001b[0m\u001b[0mDiagnosis\u001b[0m \u001b[0;34m{\u001b[0m\u001b[0mname\u001b[0m\u001b[0;34m:\u001b[0m\u001b[0mline\u001b[0m\u001b[0;34m.\u001b[0m\u001b[0mDiag_Annotation\u001b[0m\u001b[0;34m}\u001b[0m\u001b[0;34m)\u001b[0m\u001b[0;34m\u001b[0m\u001b[0m\n\u001b[1;32m      4\u001b[0m \u001b[0mset\u001b[0m \u001b[0mdiag\u001b[0m\u001b[0;34m.\u001b[0m\u001b[0mid\u001b[0m\u001b[0;34m=\u001b[0m\u001b[0mline\u001b[0m\u001b[0;34m.\u001b[0m\u001b[0mDiag_Annotation\u001b[0m\u001b[0;34m\u001b[0m\u001b[0m\n\u001b[1;32m      5\u001b[0m \u001b[0mset\u001b[0m \u001b[0mdiag\u001b[0m\u001b[0;34m.\u001b[0m\u001b[0mtests\u001b[0m\u001b[0;34m=\u001b[0m\u001b[0mline\u001b[0m\u001b[0;34m.\u001b[0m\u001b[0mTests\u001b[0m\u001b[0;34m\u001b[0m\u001b[0m\n",
      "\u001b[0;31mNameError\u001b[0m: name 'graph' is not defined"
     ]
    }
   ],
   "source": [
    "graph.run(\"\"\"USING PERIODIC COMMIT 10000 \n",
    "LOAD CSV WITH HEADERS FROM 'file:///expert_diagnosis.csv' as line \n",
    "MATCH (diag:Diagnosis {name:line.Diag_Annotation})\n",
    "set diag.id=line.Diag_Annotation\n",
    "set diag.tests=line.Tests\n",
    "set diag.treatment=line.Treatment\n",
    "set diag.medication=line.Medication\"\"\")"
   ]
  },
  {
   "cell_type": "code",
   "execution_count": 9,
   "metadata": {},
   "outputs": [
    {
     "data": {
      "text/plain": [
       "<py2neo.database.Cursor at 0x7fa6c6201fd0>"
      ]
     },
     "execution_count": 9,
     "metadata": {},
     "output_type": "execute_result"
    }
   ],
   "source": [
    "graph.run(\"\"\"USING PERIODIC COMMIT 10000 \n",
    "LOAD CSV WITH HEADERS FROM 'file:///expert_symptoms.csv' as line \n",
    "MATCH (sym:Symptoms {name:line.Id})\n",
    "set sym.name=\"S86\"\n",
    "set sym.description=line.Definition\n",
    "set sym.types=line.Types\n",
    "set sym.sign=line.Sign\n",
    "set sym.general_Medication=line.Medication\"\"\")"
   ]
  },
  {
   "cell_type": "code",
   "execution_count": null,
   "metadata": {
    "collapsed": true
   },
   "outputs": [],
   "source": [
    "graph.run(\"\"\"USING PERIODIC COMMIT 10000 \n",
    "LOAD CSV WITH HEADERS FROM 'file:///diag_title.csv' as line \n",
    "MATCH (sym:Symptoms {name:line.ID})\n",
    "set sym.real_name=line.diagnose\n",
    "set sym.description=line.Definition\n",
    "set sym.types=line.Types\n",
    "set sym.sign=line.Sign\n",
    "set sym.general_Medication=line.Medication\"\"\")"
   ]
  }
 ],
 "metadata": {
  "kernelspec": {
   "display_name": "Python 3",
   "language": "python",
   "name": "python3"
  },
  "language_info": {
   "codemirror_mode": {
    "name": "ipython",
    "version": 3
   },
   "file_extension": ".py",
   "mimetype": "text/x-python",
   "name": "python",
   "nbconvert_exporter": "python",
   "pygments_lexer": "ipython3",
   "version": "3.6.3"
  }
 },
 "nbformat": 4,
 "nbformat_minor": 2
}

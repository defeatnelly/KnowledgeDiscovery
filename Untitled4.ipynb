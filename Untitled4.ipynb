{
 "cells": [
  {
   "cell_type": "code",
   "execution_count": 1,
   "metadata": {
    "collapsed": true
   },
   "outputs": [],
   "source": [
    "from py2neo import Graph \n",
    "graph=Graph(\" https://localhost:7474/db/data/\",password=\"flower\")\n",
    "\n",
    "\n"
   ]
  },
  {
   "cell_type": "code",
   "execution_count": 2,
   "metadata": {
    "collapsed": true
   },
   "outputs": [],
   "source": [
    "def user_input(symp_list):\n",
    "    import re\n",
    "    if(type(symp_list) is not list):\n",
    "        print(\"The symptoms are :\",symp_list)\n",
    "        list_symp=symp_list.replace('and',',').replace('[','').replace(']','').replace('.','').replace(\"'\",'').replace(' ','').split(',')\n",
    "    else:\n",
    "        return symp_list\n",
    "    return list_symp"
   ]
  },
  {
   "cell_type": "code",
   "execution_count": 3,
   "metadata": {
    "collapsed": true
   },
   "outputs": [],
   "source": [
    "def create_symptoms(patient_Symptoms):\n",
    "    import re\n",
    "    number_of_symptoms=len(patient_Symptoms)\n",
    "    #print(number_of_symptoms)\n",
    "    strg_final=''\n",
    "    str_MAG=''\n",
    "    i=1\n",
    "    for each in patient_Symptoms:\n",
    "        strg='s{}'.format(i) + '.name=' + \"\\\"%s\\\"\" %each.strip()+ ' and '\n",
    "        strg_final=strg+strg_final\n",
    "        i=i+1\n",
    "    for i in range(1,number_of_symptoms+1):\n",
    "        \n",
    "        str_MAG=str_MAG+'(n:MAG)-[:hasSymptom]->('+ 's{}'.format(i)+':Symptoms),'\n",
    "        \n",
    "    #print(strg_final)\n",
    "    #print (re.sub('(\\sand\\s$)','',strg_final))\n",
    "   # print(str_MAG, strg_final)\n",
    "    return str_MAG,strg_final,number_of_symptoms\n",
    "\n",
    "#print(re.search(r'\\sand\\s$',strg))\n",
    "#print(strg.endswith(' and '))"
   ]
  },
  {
   "cell_type": "code",
   "execution_count": null,
   "metadata": {
    "collapsed": true
   },
   "outputs": [],
   "source": [
    "def Search_MAG(str_MAG,strg_final,number_of_symps):\n",
    "    from py2neo import Graph\n",
    "    query=\"MATCH \"+\" %s \"% str_MAG +\"\"\"\n",
    "    (d:Diagnosis)<-[:hasDiagnosis]-(n:MAG),\n",
    "    (m:MAG)<-[c:connectedTo]-(n:MAG),\n",
    "    (m:MAG)-[:hasSymptom]->(newsymp:Symptoms),\n",
    "    (m:MAG)-[:hasDiagnosis]->(newdiag:Diagnosis)\n",
    "    where\"\"\"+\"\"\" %s \"\"\" % strg_final+ \" n.Symptoms_Count = %s \"% str(number_of_symps)+\"\"\" \n",
    "    return n.name as MAG,\n",
    "    collect(Distinct d.name) as Diagnosis,\n",
    "    m.name as ConnectedMAG,\n",
    "    c.Weight as Weight,\n",
    "    Collect(Distinct newsymp.name) as possibleSymptoms ,\n",
    "    Collect(Distinct newdiag.name) as possibleDiagnosis,\n",
    "    m.Diagnosis_Count as New_DiagnosisCount,\n",
    "    n.Diagnosis_Count as Old_DiagnosisCount\n",
    "    order by Weight desc\"\"\"\n",
    "    return query\n",
    "    "
   ]
  },
  {
   "cell_type": "code",
   "execution_count": 17,
   "metadata": {
    "collapsed": true
   },
   "outputs": [],
   "source": [
    "def MAG_Contains(MAG):\n",
    "    from py2neo import Graph\n",
    "    query=\"\"\"MATCH\n",
    "    (m:MAG)<-[c:connectedTo]-(n:MAG),\n",
    "    (d:Diagnosis)<-[:hasDiagnosis]-(n:MAG),\n",
    "    (s:Symptoms)<-[:hasSymptom]-(n:MAG),\n",
    "    (m:MAG)-[:hasSymptom]->(newsymp:Symptoms),\n",
    "    (m:MAG)-[:hasDiagnosis]->(newdiag:Diagnosis)\n",
    "    where n.name=\"\"\"+\"\\\"%s\\\"\" % MAG +\"\"\" \n",
    "    return n.name as MAG,\n",
    "    m.name as ConnectMAG,\n",
    "    collect(Distinct d.name) as Diagnosis,\n",
    "    collect(Distinct s.name) as Symptoms,\n",
    "    c.Weight as Weight,\n",
    "    Collect(Distinct newsymp.name) as possibleSymptoms ,\n",
    "    Collect(Distinct newdiag.name) as possibleDiagnosis\n",
    "    order by Weight desc\"\"\"\n",
    "    return query\n",
    "    "
   ]
  },
  {
   "cell_type": "code",
   "execution_count": 6,
   "metadata": {
    "collapsed": true
   },
   "outputs": [],
   "source": [
    "def Current_MAG(str_MAG,strg_final,number_of_symptoms):\n",
    "    from py2neo import Graph\n",
    "    query=\"MATCH \"+\" %s \"% str_MAG +\"\"\"\n",
    "    (d:Diagnosis)<-[:hasDiagnosis]-(n:MAG),\n",
    "    (s:Symptoms)<-[:hasSymptom]-(n:MAG)\n",
    "    where\"\"\"+\"\"\" %s \"\"\" % strg_final+ \" n.Symptoms_Count = %s \"% str(number_of_symptoms)+\"\"\" \n",
    "    return n.name as MAG,\n",
    "    collect(Distinct d.name) as Diagnosis,\n",
    "    collect(Distinct s.name) as Symptoms\n",
    "    \"\"\"\n",
    "    return query\n",
    "    "
   ]
  },
  {
   "cell_type": "code",
   "execution_count": 7,
   "metadata": {
    "collapsed": true
   },
   "outputs": [],
   "source": [
    "def display_connected_MAG(Connected_MAGS):\n",
    "    list_Symptoms={}\n",
    "    if (Connected_MAGS.empty):\n",
    "        print(\"The MAG is final MAG and has no connected MAG\")\n",
    "        \n",
    "    else:\n",
    "        print(\"The Symptoms matched with MAG: \"+\"\".join(set(Connected_MAGS[\"MAG\"])))\n",
    "        display(Connected_MAGS)\n",
    "        print(\"The list of connected MAG with its weight in decending order are\\n\")\n",
    "        display(DataFrame(Connected_MAGS[\"ConnectedMAG\"]))\n",
    "        print(\"The list of connected MAG  and Symptoms are\\n\")\n",
    "        display(DataFrame(list(zip(Connected_MAGS[\"ConnectedMAG\"],Connected_MAGS[\"possibleSymptoms\"])),columns=[\"ConnectedMAG\",\"possibleSymptoms\"]))\n",
    "        print(\"The list of connected MAG  and Diagnosis are\\n\")\n",
    "        display(DataFrame(list(zip(Connected_MAGS[\"ConnectedMAG\"],Connected_MAGS[\"possibleDiagnosis\"])),columns=[\"ConnectedMAG\",\"possibleDiagnosis\"]))\n",
    "        num_of_Mag=len(Connected_MAGS[\"ConnectedMAG\"])\n",
    "        \n",
    "        for index,row in Connected_MAGS.iterrows():\n",
    "           \n",
    "            list_Symptoms[row[\"ConnectedMAG\"]]=list(set(row[\"possibleSymptoms\"])-set(symp_list))    \n",
    "        display(DataFrame(list_Symptoms))\n",
    "    return list_Symptoms"
   ]
  },
  {
   "cell_type": "code",
   "execution_count": 8,
   "metadata": {
    "collapsed": true
   },
   "outputs": [],
   "source": [
    "def refer_database():\n",
    "    try:\n",
    "        Patient=pd.read_csv(\"/var/lib/neo4j/import/Patient.csv\",index_col=False)\n",
    "    except:\n",
    "        print(\"The patient database couldn't be found\")\n",
    "    choice=input(\"Do you want to refer to Patient Database Y/N\")\n",
    "    if(choice.upper()==\"Y\" or  choice.upper()==\"Yes\"):\n",
    "        #Todo\n",
    "        print(\"Refering to Patient Historical Database\");\n",
    "        patientID= input(\"Enter patientID\")\n",
    "        Patient_data=DataFrame(Patient[Patient.PatientID==patientID])\n",
    "        Patient_data.set_index('PatientID', inplace=True)\n",
    "        if len(Patient_data) != 0  :\n",
    "\n",
    "            patient_Symptoms=Patient_data.get_value(patientID,\"Symptoms\")\n",
    "\n",
    "            #print(patient_Symptoms)\n",
    "\n",
    "\n",
    "            #symp_list=user_input(patient_Symptoms)\n",
    "\n",
    "            #str_MAG,strg_final,number_of_symptoms=create_symptoms(symp_list)\n",
    "            '''query=Search_MAG(str_MAG,strg_final,number_of_symptoms)\n",
    "            query1=Current_MAG(str_MAG,strg_final,number_of_symptoms)\n",
    "            \n",
    "            Current=DataFrame(graph.run(query1).data())\n",
    "            #print(query)\n",
    "            Connected_MAGS=DataFrame(graph.run(query).data())\n",
    "            #add_to_list(travel_MAG,set(Connected_MAGS[\"MAG\"]))\n",
    "            return Connected_MAGS'''\n",
    "            return patient_Symptoms\n",
    "\n",
    "\n",
    "        else:\n",
    "            print(\"No Patient in Patient Database\")\n",
    "             \n",
    "\n",
    "\n",
    "    else:\n",
    "         print(\"Exiting from Program, since your choice is N\")\n",
    "    return"
   ]
  },
  {
   "cell_type": "code",
   "execution_count": 9,
   "metadata": {
    "collapsed": true
   },
   "outputs": [],
   "source": [
    "def add_to_list(itemlist,item):\n",
    "    itemlist=list(set(itemlist))\n",
    "    itemlist.append(item)\n",
    "    \n",
    "    return itemlist"
   ]
  },
  {
   "cell_type": "code",
   "execution_count": 10,
   "metadata": {
    "collapsed": true
   },
   "outputs": [],
   "source": [
    "def remove_item(itemlist,item):\n",
    "    itemlist.remove(item)\n",
    "    \n",
    "    return itemlist"
   ]
  },
  {
   "cell_type": "code",
   "execution_count": 40,
   "metadata": {
    "scrolled": false
   },
   "outputs": [
    {
     "name": "stdout",
     "output_type": "stream",
     "text": [
      "Do you want to refer to Patient Database Y/NY\n",
      "Refering to Patient Historical Database\n",
      "Enter patientIDP0032\n",
      "Hi, What are the new symptoms do patient has?\n",
      "The symptoms are : ['S25', 'S111']\n",
      "The Symptoms matched with MAG: MAG122\n"
     ]
    },
    {
     "data": {
      "text/html": [
       "<div>\n",
       "<style>\n",
       "    .dataframe thead tr:only-child th {\n",
       "        text-align: right;\n",
       "    }\n",
       "\n",
       "    .dataframe thead th {\n",
       "        text-align: left;\n",
       "    }\n",
       "\n",
       "    .dataframe tbody tr th {\n",
       "        vertical-align: top;\n",
       "    }\n",
       "</style>\n",
       "<table border=\"1\" class=\"dataframe\">\n",
       "  <thead>\n",
       "    <tr style=\"text-align: right;\">\n",
       "      <th></th>\n",
       "      <th>ConnectedMAG</th>\n",
       "      <th>Diagnosis</th>\n",
       "      <th>MAG</th>\n",
       "      <th>New_DiagnosiCount</th>\n",
       "      <th>Old_DiagnosiCount</th>\n",
       "      <th>Weight</th>\n",
       "      <th>possibleDiagnosis</th>\n",
       "      <th>possibleSymptoms</th>\n",
       "    </tr>\n",
       "  </thead>\n",
       "  <tbody>\n",
       "    <tr>\n",
       "      <th>0</th>\n",
       "      <td>MAG288</td>\n",
       "      <td>[D699, D487, D747, D176, D1140, D484, D1093, D...</td>\n",
       "      <td>MAG122</td>\n",
       "      <td>8</td>\n",
       "      <td>14</td>\n",
       "      <td>0.571429</td>\n",
       "      <td>[D487, D747, D484, D435, D182, D13, D183, D300]</td>\n",
       "      <td>[S111, S187, S25]</td>\n",
       "    </tr>\n",
       "    <tr>\n",
       "      <th>1</th>\n",
       "      <td>MAG364</td>\n",
       "      <td>[D699, D487, D747, D176, D1140, D484, D1093, D...</td>\n",
       "      <td>MAG122</td>\n",
       "      <td>3</td>\n",
       "      <td>14</td>\n",
       "      <td>0.214286</td>\n",
       "      <td>[D699, D1139, D487]</td>\n",
       "      <td>[S111, S21, S25]</td>\n",
       "    </tr>\n",
       "    <tr>\n",
       "      <th>2</th>\n",
       "      <td>MAG235</td>\n",
       "      <td>[D699, D487, D747, D176, D1140, D484, D1093, D...</td>\n",
       "      <td>MAG122</td>\n",
       "      <td>3</td>\n",
       "      <td>14</td>\n",
       "      <td>0.214286</td>\n",
       "      <td>[D699, D435, D300]</td>\n",
       "      <td>[S111, S40, S25]</td>\n",
       "    </tr>\n",
       "  </tbody>\n",
       "</table>\n",
       "</div>"
      ],
      "text/plain": [
       "  ConnectedMAG                                          Diagnosis     MAG  \\\n",
       "0       MAG288  [D699, D487, D747, D176, D1140, D484, D1093, D...  MAG122   \n",
       "1       MAG364  [D699, D487, D747, D176, D1140, D484, D1093, D...  MAG122   \n",
       "2       MAG235  [D699, D487, D747, D176, D1140, D484, D1093, D...  MAG122   \n",
       "\n",
       "   New_DiagnosiCount  Old_DiagnosiCount    Weight  \\\n",
       "0                  8                 14  0.571429   \n",
       "1                  3                 14  0.214286   \n",
       "2                  3                 14  0.214286   \n",
       "\n",
       "                                 possibleDiagnosis   possibleSymptoms  \n",
       "0  [D487, D747, D484, D435, D182, D13, D183, D300]  [S111, S187, S25]  \n",
       "1                              [D699, D1139, D487]   [S111, S21, S25]  \n",
       "2                               [D699, D435, D300]   [S111, S40, S25]  "
      ]
     },
     "metadata": {},
     "output_type": "display_data"
    },
    {
     "name": "stdout",
     "output_type": "stream",
     "text": [
      "The list of connected MAG with its weight in decending order are\n",
      "\n"
     ]
    },
    {
     "data": {
      "text/html": [
       "<div>\n",
       "<style>\n",
       "    .dataframe thead tr:only-child th {\n",
       "        text-align: right;\n",
       "    }\n",
       "\n",
       "    .dataframe thead th {\n",
       "        text-align: left;\n",
       "    }\n",
       "\n",
       "    .dataframe tbody tr th {\n",
       "        vertical-align: top;\n",
       "    }\n",
       "</style>\n",
       "<table border=\"1\" class=\"dataframe\">\n",
       "  <thead>\n",
       "    <tr style=\"text-align: right;\">\n",
       "      <th></th>\n",
       "      <th>ConnectedMAG</th>\n",
       "    </tr>\n",
       "  </thead>\n",
       "  <tbody>\n",
       "    <tr>\n",
       "      <th>0</th>\n",
       "      <td>MAG288</td>\n",
       "    </tr>\n",
       "    <tr>\n",
       "      <th>1</th>\n",
       "      <td>MAG364</td>\n",
       "    </tr>\n",
       "    <tr>\n",
       "      <th>2</th>\n",
       "      <td>MAG235</td>\n",
       "    </tr>\n",
       "  </tbody>\n",
       "</table>\n",
       "</div>"
      ],
      "text/plain": [
       "  ConnectedMAG\n",
       "0       MAG288\n",
       "1       MAG364\n",
       "2       MAG235"
      ]
     },
     "metadata": {},
     "output_type": "display_data"
    },
    {
     "name": "stdout",
     "output_type": "stream",
     "text": [
      "The list of connected MAG  and Symptoms are\n",
      "\n"
     ]
    },
    {
     "data": {
      "text/html": [
       "<div>\n",
       "<style>\n",
       "    .dataframe thead tr:only-child th {\n",
       "        text-align: right;\n",
       "    }\n",
       "\n",
       "    .dataframe thead th {\n",
       "        text-align: left;\n",
       "    }\n",
       "\n",
       "    .dataframe tbody tr th {\n",
       "        vertical-align: top;\n",
       "    }\n",
       "</style>\n",
       "<table border=\"1\" class=\"dataframe\">\n",
       "  <thead>\n",
       "    <tr style=\"text-align: right;\">\n",
       "      <th></th>\n",
       "      <th>ConnectedMAG</th>\n",
       "      <th>possibleSymptoms</th>\n",
       "    </tr>\n",
       "  </thead>\n",
       "  <tbody>\n",
       "    <tr>\n",
       "      <th>0</th>\n",
       "      <td>MAG288</td>\n",
       "      <td>[S111, S187, S25]</td>\n",
       "    </tr>\n",
       "    <tr>\n",
       "      <th>1</th>\n",
       "      <td>MAG364</td>\n",
       "      <td>[S111, S21, S25]</td>\n",
       "    </tr>\n",
       "    <tr>\n",
       "      <th>2</th>\n",
       "      <td>MAG235</td>\n",
       "      <td>[S111, S40, S25]</td>\n",
       "    </tr>\n",
       "  </tbody>\n",
       "</table>\n",
       "</div>"
      ],
      "text/plain": [
       "  ConnectedMAG   possibleSymptoms\n",
       "0       MAG288  [S111, S187, S25]\n",
       "1       MAG364   [S111, S21, S25]\n",
       "2       MAG235   [S111, S40, S25]"
      ]
     },
     "metadata": {},
     "output_type": "display_data"
    },
    {
     "name": "stdout",
     "output_type": "stream",
     "text": [
      "The list of connected MAG  and Diagnosis are\n",
      "\n"
     ]
    },
    {
     "data": {
      "text/html": [
       "<div>\n",
       "<style>\n",
       "    .dataframe thead tr:only-child th {\n",
       "        text-align: right;\n",
       "    }\n",
       "\n",
       "    .dataframe thead th {\n",
       "        text-align: left;\n",
       "    }\n",
       "\n",
       "    .dataframe tbody tr th {\n",
       "        vertical-align: top;\n",
       "    }\n",
       "</style>\n",
       "<table border=\"1\" class=\"dataframe\">\n",
       "  <thead>\n",
       "    <tr style=\"text-align: right;\">\n",
       "      <th></th>\n",
       "      <th>ConnectedMAG</th>\n",
       "      <th>possibleDiagnosis</th>\n",
       "    </tr>\n",
       "  </thead>\n",
       "  <tbody>\n",
       "    <tr>\n",
       "      <th>0</th>\n",
       "      <td>MAG288</td>\n",
       "      <td>[D487, D747, D484, D435, D182, D13, D183, D300]</td>\n",
       "    </tr>\n",
       "    <tr>\n",
       "      <th>1</th>\n",
       "      <td>MAG364</td>\n",
       "      <td>[D699, D1139, D487]</td>\n",
       "    </tr>\n",
       "    <tr>\n",
       "      <th>2</th>\n",
       "      <td>MAG235</td>\n",
       "      <td>[D699, D435, D300]</td>\n",
       "    </tr>\n",
       "  </tbody>\n",
       "</table>\n",
       "</div>"
      ],
      "text/plain": [
       "  ConnectedMAG                                possibleDiagnosis\n",
       "0       MAG288  [D487, D747, D484, D435, D182, D13, D183, D300]\n",
       "1       MAG364                              [D699, D1139, D487]\n",
       "2       MAG235                               [D699, D435, D300]"
      ]
     },
     "metadata": {},
     "output_type": "display_data"
    },
    {
     "data": {
      "text/html": [
       "<div>\n",
       "<style>\n",
       "    .dataframe thead tr:only-child th {\n",
       "        text-align: right;\n",
       "    }\n",
       "\n",
       "    .dataframe thead th {\n",
       "        text-align: left;\n",
       "    }\n",
       "\n",
       "    .dataframe tbody tr th {\n",
       "        vertical-align: top;\n",
       "    }\n",
       "</style>\n",
       "<table border=\"1\" class=\"dataframe\">\n",
       "  <thead>\n",
       "    <tr style=\"text-align: right;\">\n",
       "      <th></th>\n",
       "      <th>MAG235</th>\n",
       "      <th>MAG288</th>\n",
       "      <th>MAG364</th>\n",
       "    </tr>\n",
       "  </thead>\n",
       "  <tbody>\n",
       "    <tr>\n",
       "      <th>0</th>\n",
       "      <td>S25</td>\n",
       "      <td>S187</td>\n",
       "      <td>S21</td>\n",
       "    </tr>\n",
       "    <tr>\n",
       "      <th>1</th>\n",
       "      <td>S111</td>\n",
       "      <td>S25</td>\n",
       "      <td>S111</td>\n",
       "    </tr>\n",
       "    <tr>\n",
       "      <th>2</th>\n",
       "      <td>S40</td>\n",
       "      <td>S111</td>\n",
       "      <td>S25</td>\n",
       "    </tr>\n",
       "  </tbody>\n",
       "</table>\n",
       "</div>"
      ],
      "text/plain": [
       "  MAG235 MAG288 MAG364\n",
       "0    S25   S187    S21\n",
       "1   S111    S25   S111\n",
       "2    S40   S111    S25"
      ]
     },
     "metadata": {},
     "output_type": "display_data"
    },
    {
     "name": "stdout",
     "output_type": "stream",
     "text": [
      "The Current Traversal MAG's is: [['MAG122']]\n",
      "Do you like to continue further Y/NY\n",
      "Choose the MAG for appropriate Symptoms above\n",
      "MAG288\n",
      "The MAG is final MAG and has no connected MAG\n",
      "The final Traversal MAG's are: [['MAG122']]\n"
     ]
    },
    {
     "ename": "SystemExit",
     "evalue": "",
     "output_type": "error",
     "traceback": [
      "An exception has occurred, use %tb to see the full traceback.\n",
      "\u001b[0;31mSystemExit\u001b[0m\n"
     ]
    },
    {
     "name": "stderr",
     "output_type": "stream",
     "text": [
      "/home/dev/anaconda3/lib/python3.6/site-packages/IPython/core/interactiveshell.py:2870: UserWarning: To exit: use 'exit', 'quit', or Ctrl-D.\n",
      "  warn(\"To exit: use 'exit', 'quit', or Ctrl-D.\", stacklevel=1)\n"
     ]
    }
   ],
   "source": [
    "if __name__==\"__main__\":    \n",
    "    from py2neo import Graph\n",
    "    from pandas import DataFrame \n",
    "    import pandas as pd\n",
    "    import sys\n",
    "    from IPython.display import display, HTML\n",
    "    graph=Graph(\" https://localhost:7474/db/data/\",password=\"flower\")\n",
    "    pd_db_symptom=refer_database()\n",
    "    symp_list=input(\"Hi, What are the new symptoms do patient has?\")\n",
    "    if not symp_list :    \n",
    "        patient_Symptoms=user_input(pd_db_symptom)\n",
    "    elif not pd_db_symptom:\n",
    "        patient_Symptoms=user_input(symp_list)\n",
    "        \n",
    "    else:\n",
    "        \n",
    "        patient_Symptoms=user_input(pd_db_symptom)+user_input(symp_list)\n",
    "    patient_Symptoms=list(set(patient_Symptoms))\n",
    "    #print(\"This is the total symptoms\",patient_Symptoms)\n",
    "    str_MAG,strg_final,number_of_symptoms=create_symptoms(patient_Symptoms)\n",
    "    #print(str_MAG)\n",
    "    query=Search_MAG(str_MAG,strg_final,number_of_symptoms)\n",
    "   #print(query)\n",
    "    data=DataFrame(graph.run(query).data())\n",
    "   # print(data)\n",
    "    \n",
    "    travel_MAG=[]\n",
    "    \n",
    "    '''if( len(data)==0):\n",
    "        Connected_MAGS=refer_database()\n",
    "        \n",
    "        list_symptoms=display_connected_MAG(Connected_MAGS)\n",
    "    else:\n",
    "        list_symptoms=display_connected_MAG(data)\n",
    "        Connected_MAGS=data'''\n",
    "    list_symptoms=display_connected_MAG(data)\n",
    "    Connected_MAGS=data\n",
    "    travel_MAG.append(list(set(Connected_MAGS[\"MAG\"])))\n",
    "    print(\"The Current Traversal MAG's is:\",(travel_MAG))\n",
    "    Status=True\n",
    "    while(Status==True):\n",
    "        choice=input(\"Do you like to continue further Y/N\")\n",
    "        if(choice==\"N\"or choice==\"No\"):\n",
    "            print(\"The final Traversal MAG's are:\",(travel_MAG))\n",
    "            Status=False\n",
    "            continue\n",
    "        else:\n",
    "            print(\"Choose the MAG for appropriate Symptoms above\")\n",
    "            choice_MAG=input()\n",
    "            if(choice_MAG not in list_symptoms.keys()):\n",
    "                print(\"enter MAG again, not correct!\")\n",
    "                continue\n",
    "            else:\n",
    "                #print(Connected_MAGS)\n",
    "                Connected_MAGS.set_index('ConnectedMAG', inplace=True)\n",
    "                query1=MAG_Contains(choice_MAG)\n",
    "                patient_Symptoms=Connected_MAGS.get_value(choice_MAG,\"possibleSymptoms\")\n",
    "\n",
    "                #add_to_list(travel_MAG,set(Connected_MAGS[\"MAG\"]))\n",
    "                #print(patient_Symptoms)\n",
    "\n",
    "\n",
    "                symp_list=user_input(patient_Symptoms)\n",
    "\n",
    "                str_MAG,strg_final,number_of_symptoms=create_symptoms(symp_list)\n",
    "                query=Search_MAG(str_MAG,strg_final,number_of_symptoms)\n",
    "\n",
    "                Current=DataFrame(graph.run(query1).data())\n",
    "                #print(\"This is the detail of current MAG\\n\")\n",
    "                #display(Current)\n",
    "\n",
    "                \n",
    "                Connected_MAGS=DataFrame(graph.run(query).data())\n",
    "                \n",
    "                if not Current.empty:\n",
    "                    travel_MAG.append(list(set(Connected_MAGS[\"MAG\"])))\n",
    "                    list_symptoms=display_connected_MAG(Connected_MAGS) \n",
    "                    print(\"The Current Traversal MAG's are:\",(travel_MAG))\n",
    "                else:\n",
    "                    print(\"The MAG is final MAG and has no connected MAG\")\n",
    "                    print(\"The final Traversal MAG's are:\",(travel_MAG))\n",
    "                    sys.exit()\n",
    "                    \n",
    "\n",
    "\n",
    "\n",
    "\n",
    "\n",
    "for MAG in travel_MAG:\n",
    "    print(MAG)"
   ]
  },
  {
   "cell_type": "code",
   "execution_count": null,
   "metadata": {
    "collapsed": true
   },
   "outputs": [],
   "source": [
    "def travel_MAG_Node(travel_MAG):\n",
    "    import re\n",
    "    number_of_symptoms=len(travel_MAG)\n",
    "    #print(number_of_symptoms)\n",
    "    strg_final=''\n",
    "    str_MAG=''\n",
    "    i=1\n",
    "    for each in travel_MAG:\n",
    "        each=''.join()\n",
    "        strg='n{}'.format(i) + '.name IN ' + \"\\\"%s\\\"\" %each+ ' and '\n",
    "        strg_final=strg+strg_final\n",
    "        i=i+1\n",
    "    for i in range(1,travel_MAG+1):\n",
    "        \n",
    "        str_MAG=str_MAG+'(n{}'.format(i)+'MAG), '\n",
    "        \n",
    "   # print(strg_final)\n",
    "    #print (re.sub('(\\sand\\s$)','',strg_final))\n",
    "    print(str_MAG, strg_final)\n",
    "    return str_MAG,strg_final,number_of_symptoms\n",
    "\n",
    "#print(re.search(r'\\sand\\s$',strg))\n",
    "#print(strg.endswith(' and '))"
   ]
  },
  {
   "cell_type": "code",
   "execution_count": null,
   "metadata": {
    "collapsed": true
   },
   "outputs": [],
   "source": [
    "travel_MAG_Node(travel_MAG)"
   ]
  }
 ],
 "metadata": {
  "kernelspec": {
   "display_name": "Python 3",
   "language": "python",
   "name": "python3"
  },
  "language_info": {
   "codemirror_mode": {
    "name": "ipython",
    "version": 3
   },
   "file_extension": ".py",
   "mimetype": "text/x-python",
   "name": "python",
   "nbconvert_exporter": "python",
   "pygments_lexer": "ipython3",
   "version": "3.6.3"
  }
 },
 "nbformat": 4,
 "nbformat_minor": 2
}
